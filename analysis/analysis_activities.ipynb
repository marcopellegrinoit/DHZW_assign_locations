{
 "cells": [
  {
   "cell_type": "markdown",
   "id": "48c27af3",
   "metadata": {},
   "source": [
    "# Average distance per activity destination"
   ]
  },
  {
   "cell_type": "code",
   "execution_count": null,
   "id": "a6d1e4e7",
   "metadata": {},
   "outputs": [],
   "source": [
    "import os\n",
    "import pandas as pd\n",
    "import matplotlib.pyplot as plt\n",
    "import seaborn as sns\n",
    "from shapely.geometry import Point\n",
    "from scipy.spatial.distance import euclidean\n",
    "from scipy.spatial import distance\n",
    "from matplotlib.patches import Patch\n",
    "import warnings\n",
    "import numpy as np\n",
    "import geopandas as gpd"
   ]
  },
  {
   "cell_type": "code",
   "execution_count": null,
   "id": "ebeace05",
   "metadata": {},
   "outputs": [],
   "source": [
    "def add_trip_euclidean_distance(df):\n",
    "    # Read PC4 geometries\n",
    "    shapefile_path = \"../../../DHZW_shapefiles/data/processed/shapefiles/centroids_PC4_NL_shp/centroids_PC4_NL_shp.shp\"\n",
    "    shapefile_df = gpd.read_file(shapefile_path)\n",
    "\n",
    "    # Merge the geometry postal code coordinates with the trips departure and arrival postcodes from the dataframe\n",
    "    df = pd.merge(df, shapefile_df, left_on='disp_start_PC4', right_on='PC4', how='left')\n",
    "    \n",
    "    df = df.rename(columns={'geometry': 'geometry_start'})\n",
    "    df = df.drop('PC4', axis=1)\n",
    "            \n",
    "    df = pd.merge(df, shapefile_df, left_on='disp_arrival_PC4', right_on='PC4', how='left')\n",
    "    \n",
    "    df = df.rename(columns={'geometry': 'geometry_arrival'})\n",
    "    df = df.drop('PC4', axis=1)\n",
    "        \n",
    "    # Merge the geometry postal code coordinates with the trips home postcode\n",
    "    df = pd.merge(df, shapefile_df, left_on='hh_PC4', right_on='PC4', how='left')\n",
    "    \n",
    "    df = df.rename(columns={'geometry': 'geometry_home'})\n",
    "    df = df.drop('PC4', axis=1)\n",
    "    \n",
    "    # Calculate Euclidean distance for each trip\n",
    "    df['euclidean_distance'] = [distance.euclidean(p1, p2) for p1, p2 in zip(df['geometry_start'], df['geometry_arrival'])]\n",
    "    df['euclidean_distance'] = df['euclidean_distance'] * 100\n",
    "\n",
    "    # Calculate Euclidean distance for each trip from home to destination\n",
    "    df['euclidean_distance_from_home'] = [distance.euclidean(p1, p2) for p1, p2 in zip(df['geometry_home'], df['geometry_arrival'])]\n",
    "    df['euclidean_distance_from_home'] = df['euclidean_distance_from_home'] * 100\n",
    "    \n",
    "    return(df)"
   ]
  },
  {
   "cell_type": "markdown",
   "id": "2bbb6f7c",
   "metadata": {},
   "source": [
    "### Import"
   ]
  },
  {
   "cell_type": "code",
   "execution_count": null,
   "id": "56012c65",
   "metadata": {},
   "outputs": [],
   "source": [
    "# Read DHZW trips\n",
    "\n",
    "#os.chdir('C:/Users/6997619/Documents/GitHub projects/DHZW_assign_location/data/processed')\n",
    "df_ODiN = pd.read_csv(\"../../data/processed/displacements_DHZW.csv\")\n",
    "\n",
    "print('n ODiN trips: ' + str(len(df_ODiN)))\n",
    "print('n ODiN participants: ' + str(len(pd.unique(df_ODiN['agent_ID']))))\n",
    "\n",
    "df_synthetic = pd.read_csv(\"../../data/processed/analysis/synthetic_trips.csv\")\n",
    "print('n synthetic trips: ' + str(len(df_synthetic)))\n",
    "print('n synthetic agents: ' + str(len(pd.unique(df_synthetic['agent_ID']))))"
   ]
  },
  {
   "cell_type": "code",
   "execution_count": null,
   "id": "7173483c",
   "metadata": {},
   "outputs": [],
   "source": [
    "# add previous activity information for ODiN\n",
    "\n",
    "df_ODiN = df_ODiN.sort_values(by='disp_ID')\n",
    "\n",
    "# Add a new column 'previous_activity' to store the previous activity for each trip\n",
    "df_ODiN['previous_activity'] = df_ODiN.groupby('agent_ID')['disp_activity'].shift()\n",
    "df_ODiN['previous_activity'].fillna('HOME', inplace=True)"
   ]
  },
  {
   "cell_type": "code",
   "execution_count": null,
   "id": "edec0f86",
   "metadata": {},
   "outputs": [],
   "source": [
    "df_ODiN = add_trip_euclidean_distance(df_ODiN)\n",
    "df_synthetic = add_trip_euclidean_distance(df_synthetic)"
   ]
  },
  {
   "cell_type": "markdown",
   "id": "e7ea06ff",
   "metadata": {},
   "source": [
    "### Calculate Euclidean Distance for trips and from home to destination"
   ]
  },
  {
   "cell_type": "code",
   "execution_count": null,
   "id": "3ebad24e",
   "metadata": {},
   "outputs": [],
   "source": [
    "df1 = df_ODiN[['disp_activity', 'euclidean_distance']]\n",
    "df2 = df_synthetic[['disp_activity', 'euclidean_distance']]\n",
    "\n",
    "# Merge the datasets\n",
    "df_merged = pd.concat([df1, df2], keys=['ODiN', 'synthetic'])\n",
    "\n",
    "# Create figure and axes\n",
    "fig, ax = plt.subplots(figsize=(10, 6))\n",
    "\n",
    "# Violin plot\n",
    "violinplot = sns.violinplot(data=df_merged, x='disp_activity', y='euclidean_distance', hue=df_merged.index.get_level_values(0), split=True, inner=\"quartile\", ax=ax)\n",
    "\n",
    "# Customize plot\n",
    "ax.set_xlabel('Activity destination')\n",
    "ax.set_ylabel('Distance')\n",
    "ax.set_title('Distribution of Distances by Modal Choice (Comparison)')\n",
    "ax.set_ylim(0, 50)  # Adjust 'upper_limit' as needed\n",
    "\n",
    "# Display plot\n",
    "plt.legend(title='Dataset')\n",
    "plt.show()"
   ]
  },
  {
   "cell_type": "code",
   "execution_count": null,
   "id": "c06f5ddc",
   "metadata": {},
   "outputs": [],
   "source": [
    "df1 = df_ODiN[['disp_activity', 'euclidean_distance']]\n",
    "df2 = df_synthetic[['disp_activity', 'euclidean_distance']]\n",
    "\n",
    "# Merge the datasets\n",
    "df_merged = pd.concat([df1, df2], keys=['ODiN', 'Synthetic Population'])\n",
    "\n",
    "# Calculate the average distance for each activity within each dataset\n",
    "averages = df_merged.groupby(['disp_activity', df_merged.index.get_level_values(0)])['euclidean_distance'].mean()\n",
    "averages = averages.unstack()\n",
    "\n",
    "# Create a bar plot\n",
    "fig, ax = plt.subplots(figsize=(10, 6))\n",
    "\n",
    "averages.plot(kind='bar', ax=ax)\n",
    "\n",
    "# Customize plot\n",
    "ax.set_xlabel('Activity destination', fontsize=15)  # Increase the font size\n",
    "ax.set_ylabel('Average Euclidean Distance (km)', fontsize=14)  # Increase the font size\n",
    "ax.set_title('Evaluation of Average Euclidean Distance by Activity Destination', fontsize=16)  # Increase the font size\n",
    "\n",
    "# Set the font size for tick labels\n",
    "ax.tick_params(axis='x', labelsize=15)  # Increase the font size for x-axis tick labels\n",
    "ax.tick_params(axis='y', labelsize=15)  # Increase the font size for y-axis tick labels\n",
    "\n",
    "# Display legend\n",
    "plt.legend(title='Dataset', fontsize=15)  # Increase the font size for legend\n",
    "\n",
    "plt.xticks(rotation=45)\n",
    "\n",
    "# Display plot\n",
    "plt.legend(title='Dataset')\n",
    "plt.show()"
   ]
  },
  {
   "cell_type": "code",
   "execution_count": null,
   "id": "983230ba",
   "metadata": {},
   "outputs": [],
   "source": [
    "df1 = df_ODiN[['disp_activity', 'distance']]\n",
    "df2 = df_ODiN[['disp_activity', 'euclidean_distance']]\n",
    "df2 = df2.rename(columns={'euclidean_distance': 'distance'})\n",
    "\n",
    "# Merge the datasets\n",
    "df_merged = pd.concat([df1, df2], keys=['ODiN - real distance', 'ODiN - euclidean distance'])\n",
    "\n",
    "# Calculate the average distance for each activity within each dataset\n",
    "averages = df_merged.groupby(['disp_activity', df_merged.index.get_level_values(0)])['distance'].mean()\n",
    "averages = averages.unstack()\n",
    "\n",
    "# Create a bar plot\n",
    "fig, ax = plt.subplots(figsize=(10, 6))\n",
    "\n",
    "averages.plot(kind='bar', ax=ax)\n",
    "\n",
    "# Customize plot\n",
    "ax.set_xlabel('Activity destination')\n",
    "ax.set_ylabel('Average Distance (km)')\n",
    "ax.set_title('Difference between real distance and euclidean distance')\n",
    "\n",
    "# Display plot\n",
    "plt.legend(title='Dataset')\n",
    "plt.show()"
   ]
  },
  {
   "cell_type": "markdown",
   "id": "9deb5241",
   "metadata": {},
   "source": [
    "# Focus on work trips"
   ]
  },
  {
   "cell_type": "code",
   "execution_count": null,
   "id": "25c24807",
   "metadata": {},
   "outputs": [],
   "source": [
    "# Filter work trips\n",
    "\n",
    "df_ODiN = df_ODiN[df_ODiN['disp_activity'] == 'WORK']\n",
    "print('n ODiN work trips: ' + str(len(df_ODiN)))\n",
    "print('n ODiN work participants: ' + str(len(pd.unique(df_ODiN['agent_ID']))))\n",
    "\n",
    "print('\\n')\n",
    "\n",
    "df_synthetic = df_synthetic[df_synthetic['disp_activity'] == 'WORK']\n",
    "print('n synthetic work trips: ' + str(len(df_synthetic)))\n",
    "print('n synthetic work agents: ' + str(len(pd.unique(df_synthetic['agent_ID']))))"
   ]
  },
  {
   "cell_type": "code",
   "execution_count": null,
   "id": "a965da75",
   "metadata": {},
   "outputs": [],
   "source": []
  },
  {
   "cell_type": "code",
   "execution_count": null,
   "id": "fb05021e",
   "metadata": {},
   "outputs": [],
   "source": [
    "def postcodes_float_to_string(df):\n",
    "    df['disp_arrival_PC4'] = df['disp_arrival_PC4'].astype(int)\n",
    "    df['disp_arrival_PC4'] = df['disp_arrival_PC4'].astype(str)\n",
    "\n",
    "    df['disp_start_PC4'] = df['disp_start_PC4'].astype(int)\n",
    "    df['disp_start_PC4'] = df['disp_start_PC4'].astype(str)\n",
    "\n",
    "    df['hh_PC4'] = df['hh_PC4'].astype(int)\n",
    "    df['hh_PC4'] = df['hh_PC4'].astype(str)\n",
    "    \n",
    "    return(df)"
   ]
  },
  {
   "cell_type": "code",
   "execution_count": null,
   "id": "4f8dfd50",
   "metadata": {},
   "outputs": [],
   "source": [
    "df_ODiN = postcodes_float_to_string(df_ODiN)\n",
    "df_synthetic = postcodes_float_to_string(df_synthetic)"
   ]
  },
  {
   "cell_type": "code",
   "execution_count": null,
   "id": "efce4b79",
   "metadata": {},
   "outputs": [],
   "source": []
  },
  {
   "cell_type": "markdown",
   "id": "ad14d698",
   "metadata": {},
   "source": [
    "# Distribution of previous activity to work"
   ]
  },
  {
   "cell_type": "code",
   "execution_count": null,
   "id": "e01cf4fd",
   "metadata": {},
   "outputs": [],
   "source": [
    "def distr_prev_activity(df, title_label):\n",
    "    frequency_distribution = df['previous_activity'].value_counts()\n",
    "    \n",
    "    # Sort the frequency distribution by index (alphabetical order)\n",
    "    frequency_distribution = frequency_distribution.sort_index()\n",
    "\n",
    "    # Create a bar plot\n",
    "    frequency_distribution.plot(kind='bar')\n",
    "\n",
    "    # Set plot labels and title\n",
    "    plt.xlabel('Previous Activity')\n",
    "    plt.ylabel('Frequency')\n",
    "    plt.xticks(rotation=45)  # Rotate x-labels by 45 degrees\n",
    "    plt.title('Frequency Distribution of Previous Activity for Work Trips - ' + title_label)\n",
    "\n",
    "    # Display the plot\n",
    "    plt.show()"
   ]
  },
  {
   "cell_type": "code",
   "execution_count": null,
   "id": "d6288444",
   "metadata": {},
   "outputs": [],
   "source": [
    "distr_prev_activity(df_synthetic, 'synthetic')"
   ]
  },
  {
   "cell_type": "code",
   "execution_count": null,
   "id": "4bb192ad",
   "metadata": {},
   "outputs": [],
   "source": [
    "distr_prev_activity(df_ODiN, 'ODiN')"
   ]
  },
  {
   "cell_type": "markdown",
   "id": "64ca9dee",
   "metadata": {},
   "source": [
    "### --> Individuals mostly go to work from home"
   ]
  },
  {
   "cell_type": "markdown",
   "id": "60a90a83",
   "metadata": {},
   "source": [
    "# Average Trips per Person"
   ]
  },
  {
   "cell_type": "code",
   "execution_count": null,
   "id": "b7885440",
   "metadata": {},
   "outputs": [],
   "source": [
    "# Create a dataframe with agent IDs and average trips\n",
    "def average_trips_per_agent(df):\n",
    "    return df.groupby('agent_ID').size().mean()\n",
    "\n",
    "def sd_trips_per_agent(df):\n",
    "    return df.groupby('agent_ID').size().std()\n",
    "\n",
    "def average_n_trips_per_person(df, title_label):\n",
    "    # Filter week days\n",
    "    df_monday = df[df['day_of_week'] == 1]\n",
    "    df_tuesday = df[df['day_of_week'] == 2]\n",
    "    df_wednesday = df[df['day_of_week'] == 3]\n",
    "    df_thursday = df[df['day_of_week'] == 4]\n",
    "    df_friday = df[df['day_of_week'] == 5]\n",
    "    df_saturday = df[df['day_of_week'] == 6]\n",
    "    df_sunday = df[df['day_of_week'] == 7]\n",
    "\n",
    "    # Calculate average trips for each dataset\n",
    "    avg_monday = average_trips_per_agent(df_monday)\n",
    "    avg_tuesday = average_trips_per_agent(df_tuesday)\n",
    "    avg_wednesday = average_trips_per_agent(df_wednesday)\n",
    "    avg_thursday = average_trips_per_agent(df_thursday)\n",
    "    avg_friday = average_trips_per_agent(df_friday)\n",
    "    avg_saturday = average_trips_per_agent(df_saturday)\n",
    "    avg_sunday = average_trips_per_agent(df_sunday)\n",
    "\n",
    "    # Calculate standard deviation for each dataset\n",
    "    sd_monday = sd_trips_per_agent(df_monday)\n",
    "    sd_tuesday = sd_trips_per_agent(df_tuesday)\n",
    "    sd_wednesday = sd_trips_per_agent(df_wednesday)\n",
    "    sd_thursday = sd_trips_per_agent(df_thursday)\n",
    "    sd_friday = sd_trips_per_agent(df_friday)\n",
    "    sd_saturday = sd_trips_per_agent(df_saturday)\n",
    "    sd_sunday = sd_trips_per_agent(df_sunday)\n",
    "\n",
    "    # Create a dataframe with mean and standard deviation values for each dataset\n",
    "    df_combined = pd.DataFrame({\n",
    "        'Dataset': ['Monday', 'Tuesday', 'Wednesday', 'Thursday', 'Friday', 'Saturday', 'Sunday'],\n",
    "        'average': [avg_monday, avg_tuesday, avg_wednesday, avg_thursday, avg_friday, avg_saturday, avg_sunday],\n",
    "        'sd': [sd_monday, sd_tuesday, sd_wednesday, sd_thursday, sd_friday, sd_saturday, sd_sunday]\n",
    "    })\n",
    "\n",
    "    # plot\n",
    "    sns.barplot(x='Dataset', y='average', data=df_combined, color='cyan', yerr=df_combined['sd'])\n",
    "    plt.ylabel(\"Average Number of Trips per Person\")\n",
    "    plt.xlabel(\"Day\")\n",
    "    plt.title(\"Average Number of Work Trips per Person - \" + title_label)\n",
    "    plt.xticks(rotation=45)  # Rotate x-labels by 45 degrees\n",
    "    plt.tight_layout()  # Adjust layout to prevent label cutoff\n",
    "    plt.show()"
   ]
  },
  {
   "cell_type": "code",
   "execution_count": null,
   "id": "f4b13f56",
   "metadata": {},
   "outputs": [],
   "source": [
    "average_n_trips_per_person(df_ODiN, 'ODiN')"
   ]
  },
  {
   "cell_type": "code",
   "execution_count": null,
   "id": "b441c6a4",
   "metadata": {},
   "outputs": [],
   "source": [
    "# people take more days off on monday and friday. on the weekend the few ones that work all work once per day"
   ]
  },
  {
   "cell_type": "code",
   "execution_count": null,
   "id": "54f3e2a0",
   "metadata": {},
   "outputs": [],
   "source": [
    "average_n_trips_per_person(df_synthetic, 'synthetic')"
   ]
  },
  {
   "cell_type": "markdown",
   "id": "c6df90e4",
   "metadata": {},
   "source": [
    "# Number of Trips per Day"
   ]
  },
  {
   "cell_type": "code",
   "execution_count": null,
   "id": "e3131873",
   "metadata": {},
   "outputs": [],
   "source": [
    "def average_n_trips_per_day(df, title_label):\n",
    "    # Filter week days\n",
    "    df_monday = df[df['day_of_week'] == 1]\n",
    "    df_tuesday = df[df['day_of_week'] == 2]\n",
    "    df_wednesday = df[df['day_of_week'] == 3]\n",
    "    df_thursday = df[df['day_of_week'] == 4]\n",
    "    df_friday = df[df['day_of_week'] == 5]\n",
    "    df_saturday = df[df['day_of_week'] == 6]\n",
    "    df_sunday = df[df['day_of_week'] == 7]\n",
    "    \n",
    "    n_trips_per_day = [len(df_monday), len(df_tuesday), len(df_wednesday), len(df_thursday), len(df_friday), len(df_saturday), len(df_sunday)]\n",
    "\n",
    "    df_combined = pd.DataFrame({\n",
    "        'Dataset': ['Monday', 'Tuesday', 'Wednesday', 'Thursday', 'Friday', 'Saturday', 'Sunday'],\n",
    "        'Number_of_Trips': n_trips_per_day\n",
    "    })\n",
    "\n",
    "    # plot\n",
    "    sns.set_palette(\"deep\")\n",
    "    sns.barplot(x='Dataset', y='Number_of_Trips', data=df_combined, color='cyan')\n",
    "    plt.xlabel(\"Day\")\n",
    "    plt.ylabel(\"Number of Trips\")\n",
    "    plt.title(\"Number of Work Trips per Day - \" + title_label)\n",
    "    plt.xticks(rotation=45)  # Rotate x-labels by 45 degrees\n",
    "    plt.tight_layout()  # Adjust layout to prevent label cutoff\n",
    "    plt.show()"
   ]
  },
  {
   "cell_type": "code",
   "execution_count": null,
   "id": "7d1d4a5e",
   "metadata": {},
   "outputs": [],
   "source": [
    "average_n_trips_per_day(df_ODiN, 'ODiN')"
   ]
  },
  {
   "cell_type": "code",
   "execution_count": null,
   "id": "2f4e7fea",
   "metadata": {},
   "outputs": [],
   "source": [
    "average_n_trips_per_day(df_synthetic, 'synthetic')"
   ]
  },
  {
   "cell_type": "markdown",
   "id": "b7a5979e",
   "metadata": {},
   "source": [
    "# Average Euclidean Distance per Day"
   ]
  },
  {
   "cell_type": "code",
   "execution_count": null,
   "id": "ae7296aa",
   "metadata": {},
   "outputs": [],
   "source": [
    "def average_n_trips_per_day(df, title_label):\n",
    "    # Filter week days\n",
    "    df_monday = df[df['day_of_week'] == 1]\n",
    "    df_tuesday = df[df['day_of_week'] == 2]\n",
    "    df_wednesday = df[df['day_of_week'] == 3]\n",
    "    df_thursday = df[df['day_of_week'] == 4]\n",
    "    df_friday = df[df['day_of_week'] == 5]\n",
    "    df_saturday = df[df['day_of_week'] == 6]\n",
    "    df_sunday = df[df['day_of_week'] == 7]\n",
    "    \n",
    "    mean_distance_per_day = [\n",
    "        df['euclidean_distance'].mean(),\n",
    "        df_monday['euclidean_distance'].mean(),\n",
    "        df_tuesday['euclidean_distance'].mean(),\n",
    "        df_wednesday['euclidean_distance'].mean(),\n",
    "        df_thursday['euclidean_distance'].mean(),\n",
    "        df_friday['euclidean_distance'].mean(),\n",
    "        df_saturday['euclidean_distance'].mean(),\n",
    "        df_sunday['euclidean_distance'].mean()\n",
    "    ]\n",
    "\n",
    "    df_combined = pd.DataFrame({\n",
    "        'Dataset': ['Entire week', 'Monday', 'Tuesday', 'Wednesday', 'Thursday', 'Friday', 'Saturday', 'Sunday'],\n",
    "        'Average_Distance': mean_distance_per_day\n",
    "    })\n",
    "\n",
    "    # plot\n",
    "    sns.set_palette(\"deep\")\n",
    "    sns.barplot(x='Dataset', y='Average_Distance', data=df_combined, color='cyan')\n",
    "    plt.xlabel(\"Day\")\n",
    "    plt.ylabel(\"Average Euclidean Distance (km)\")\n",
    "    plt.title(\"Average Euclidean Distance per Day of Work Trips - \" + title_label)\n",
    "    plt.xticks(rotation=45)  # Rotate x-labels by 45 degrees\n",
    "    plt.tight_layout()  # Adjust layout to prevent label cutoff\n",
    "    plt.show()"
   ]
  },
  {
   "cell_type": "code",
   "execution_count": null,
   "id": "b6f6bb81",
   "metadata": {},
   "outputs": [],
   "source": [
    "average_n_trips_per_day(df_ODiN, 'ODiN')"
   ]
  },
  {
   "cell_type": "code",
   "execution_count": null,
   "id": "51b0c8eb",
   "metadata": {},
   "outputs": [],
   "source": [
    "average_n_trips_per_day(df_synthetic, 'synthetic')"
   ]
  },
  {
   "cell_type": "markdown",
   "id": "8bdec926",
   "metadata": {},
   "source": [
    "# Average Euclidean Distance per Person per Day"
   ]
  },
  {
   "cell_type": "code",
   "execution_count": null,
   "id": "6f0aa3ae",
   "metadata": {},
   "outputs": [],
   "source": [
    "def average_distance_per_agent(df):\n",
    "    average_distance_per_agent = df.groupby('agent_ID')['euclidean_distance'].mean().mean()\n",
    "    return average_distance_per_agent\n",
    "\n",
    "def average_distance_per_person_per_day(df, title_label):\n",
    "    # Filter week days\n",
    "    df_monday = df[df['day_of_week'] == 1]\n",
    "    df_tuesday = df[df['day_of_week'] == 2]\n",
    "    df_wednesday = df[df['day_of_week'] == 3]\n",
    "    df_thursday = df[df['day_of_week'] == 4]\n",
    "    df_friday = df[df['day_of_week'] == 5]\n",
    "    df_saturday = df[df['day_of_week'] == 6]\n",
    "    df_sunday = df[df['day_of_week'] == 7]\n",
    "    \n",
    "    average_distance_per_person = [\n",
    "        average_distance_per_agent(df),\n",
    "        average_distance_per_agent(df_monday),\n",
    "        average_distance_per_agent(df_tuesday),\n",
    "        average_distance_per_agent(df_wednesday),\n",
    "        average_distance_per_agent(df_thursday),\n",
    "        average_distance_per_agent(df_friday),\n",
    "        average_distance_per_agent(df_saturday),\n",
    "        average_distance_per_agent(df_sunday)\n",
    "    ]\n",
    "\n",
    "    # Step 3: Create a dataframe with the average distance per person\n",
    "    df_combined = pd.DataFrame({\n",
    "        'Dataset': ['Entire week', 'Monday', 'Tuesday', 'Wednesday', 'Thursday', 'Friday', 'Saturday', 'Sunday'],\n",
    "        'Average_Distance': average_distance_per_person\n",
    "    })\n",
    "\n",
    "    # Step 4: Create bar plot using seaborn (color: cyan)\n",
    "    sns.set_palette(\"deep\")\n",
    "    sns.barplot(x='Dataset', y='Average_Distance', data=df_combined, color='cyan')\n",
    "    plt.xlabel(\"Day\")\n",
    "    plt.ylabel(\"Average Euclidean Distance per Person (km)\")\n",
    "    plt.title(\"Average Euclidean Distance per Person per Day of Work Trips - \" + title_label)\n",
    "    plt.xticks(rotation=45)  # Rotate x-labels by 45 degrees\n",
    "    plt.tight_layout()  # Adjust layout to prevent label cutoff\n",
    "    plt.show()"
   ]
  },
  {
   "cell_type": "code",
   "execution_count": null,
   "id": "e3680c72",
   "metadata": {},
   "outputs": [],
   "source": [
    "average_distance_per_person_per_day(df_ODiN, 'ODiN')"
   ]
  },
  {
   "cell_type": "code",
   "execution_count": null,
   "id": "3b14b463",
   "metadata": {},
   "outputs": [],
   "source": [
    "average_distance_per_person_per_day(df_synthetic, 'synthetic')"
   ]
  },
  {
   "cell_type": "code",
   "execution_count": null,
   "id": "725e0f3a",
   "metadata": {},
   "outputs": [],
   "source": []
  },
  {
   "cell_type": "code",
   "execution_count": null,
   "id": "9f3de9a3",
   "metadata": {},
   "outputs": [],
   "source": []
  },
  {
   "cell_type": "markdown",
   "id": "29ba00bb",
   "metadata": {},
   "source": [
    "# Postcode Destination Analysis"
   ]
  },
  {
   "cell_type": "code",
   "execution_count": null,
   "id": "09c6a6e9",
   "metadata": {},
   "outputs": [],
   "source": [
    "# Read the CSV file with postcodes\n",
    "csv_file = pd.read_csv(\"../../../DHZW_shapefiles/data/codes/DHZW_PC4_codes.csv\", header=None)\n",
    "postcodes_DHZW = csv_file.iloc[:, 0].tolist()\n",
    "postcodes_DHZW = list(map(str, postcodes_DHZW))\n",
    "\n",
    "print('Postcodes of DHZW:')\n",
    "print(postcodes_DHZW)"
   ]
  },
  {
   "cell_type": "code",
   "execution_count": null,
   "id": "dcb4d6a7",
   "metadata": {},
   "outputs": [],
   "source": [
    "# Distribution of home postcodes over work trips\n",
    "home_postcode_distribution = df_ODiN['hh_PC4'].value_counts()\n",
    "home_postcode_distribution"
   ]
  },
  {
   "cell_type": "code",
   "execution_count": null,
   "id": "0d1d8715",
   "metadata": {},
   "outputs": [],
   "source": [
    "# Filter trips with origin postcode\n",
    "\n",
    "print('BEFORE')\n",
    "print('n ODiN trips: ' + str(len(df_ODiN)))\n",
    "print('n ODiN participants: ' + str(len(pd.unique(df_ODiN['agent_ID']))))\n",
    "print('n synthetic trips: ' + str(len(df_synthetic)))\n",
    "print('n synthetic agents: ' + str(len(pd.unique(df_synthetic['agent_ID']))))\n",
    "\n",
    "postcode_analysis = '2545'\n",
    "df_ODiN_filtered = df_ODiN[df_ODiN['hh_PC4'] == postcode_analysis]\n",
    "df_synthetic_filtered = df_synthetic[df_synthetic['hh_PC4'] == postcode_analysis]\n",
    "\n",
    "print('AFTER')\n",
    "print('n ODiN trips: ' + str(len(df_ODiN_filtered)))\n",
    "print('n ODiN participants: ' + str(len(pd.unique(df_ODiN_filtered['agent_ID']))))\n",
    "print('n synthetic trips: ' + str(len(df_synthetic_filtered)))\n",
    "print('n synthetic agents: ' + str(len(pd.unique(df_synthetic_filtered['agent_ID']))))"
   ]
  },
  {
   "cell_type": "code",
   "execution_count": null,
   "id": "d126655e",
   "metadata": {},
   "outputs": [],
   "source": [
    "def destination_distribution(df_ODiN, df_synthetic):\n",
    "    # Count the occurrences of each destination postcode for dataset 1\n",
    "    destination_counts_ODiN = df_ODiN['disp_arrival_PC4'].value_counts()\n",
    "    destination_counts_ODiN = (destination_counts_ODiN / destination_counts_ODiN.sum()) * 100\n",
    "    \n",
    "    print('n postcodes in ODiN: ' + str(len(destination_counts_ODiN)))\n",
    "\n",
    "    # Count the occurrences of each destination postcode for dataset 2\n",
    "    destination_counts_synthetic = df_synthetic['disp_arrival_PC4'].value_counts()\n",
    "    destination_counts_synthetic = (destination_counts_synthetic / destination_counts_synthetic.sum()) * 100\n",
    "    \n",
    "    print('n postcodes in synthetic: ' + str(len(destination_counts_synthetic)))\n",
    "\n",
    "    # Get the unique postcodes from both datasets\n",
    "    postcodes = set(destination_counts_ODiN.index) | set(destination_counts_synthetic.index)\n",
    "\n",
    "    # Sort the postcodes alphabetically\n",
    "    sorted_postcodes = sorted(postcodes)\n",
    "    \n",
    "    destination_counts_ODiN = destination_counts_ODiN.reindex(sorted_postcodes, fill_value=0)\n",
    "    destination_counts_synthetic = destination_counts_synthetic.reindex(sorted_postcodes, fill_value=0)\n",
    "\n",
    "    # Plot the destination distribution as a bar plot\n",
    "    plt.figure(figsize=(10, 6))\n",
    "    \n",
    "    # Bar width and separation for two datasets\n",
    "    bar_width = 0.3\n",
    "    bar_separation = 0\n",
    "\n",
    "    # Calculate the positions for the bars for dataset 1\n",
    "    positions1 = np.arange(len(sorted_postcodes))\n",
    "    \n",
    "    # Plot bars for dataset 1\n",
    "    plt.bar(positions1, destination_counts_ODiN.loc[sorted_postcodes],\n",
    "            bar_width, color='blue', label='ODiN')\n",
    "\n",
    "    # Calculate the positions for the bars for dataset 2\n",
    "    positions2 = positions1 + bar_width + bar_separation\n",
    "    \n",
    "    # Plot bars for dataset 2\n",
    "    plt.bar(positions2, destination_counts_synthetic.loc[sorted_postcodes],\n",
    "            bar_width, color='orange', label='synthetic')\n",
    "\n",
    "    # Set x-axis tick positions and labels\n",
    "    plt.xticks(positions1 + bar_width / 2, sorted_postcodes, rotation=45, ha='right')\n",
    "\n",
    "    # Customize plot\n",
    "    ax = plt.gca()  # Get the current axes object\n",
    "    ax.set_xlabel('Destination Postcode', fontsize=15)\n",
    "    ax.set_ylabel('Proportion of Work Trips (%)', fontsize=14)\n",
    "    ax.set_title('Postcode PC4 Destination Distribution of Work Trips or residents in PC4 '+postcode_analysis, fontsize=16)\n",
    "\n",
    "    ax.tick_params(axis='x', labelsize=10)\n",
    "    ax.tick_params(axis='y', labelsize=15)\n",
    "\n",
    "    plt.legend(title='Dataset', fontsize=15)\n",
    "    \n",
    "    plt.show()"
   ]
  },
  {
   "cell_type": "code",
   "execution_count": null,
   "id": "2083241d",
   "metadata": {},
   "outputs": [],
   "source": [
    "destination_distribution(df_ODiN_filtered, df_synthetic_filtered)"
   ]
  },
  {
   "cell_type": "markdown",
   "id": "d43d4d00",
   "metadata": {},
   "source": [
    "# Distance destination"
   ]
  },
  {
   "cell_type": "code",
   "execution_count": null,
   "id": "ef881b45",
   "metadata": {},
   "outputs": [],
   "source": [
    "# Merge with shapefile to get coordinates of each postcode\n",
    "shapefile_path = \"../../DHZW_shapefiles/data/processed/shapefiles/centroids_PC4_NL_shp/centroids_PC4_NL_shp.shp\"\n",
    "shapefile = gpd.read_file(shapefile_path)"
   ]
  },
  {
   "cell_type": "code",
   "execution_count": null,
   "id": "aaefb54f",
   "metadata": {},
   "outputs": [],
   "source": [
    "def distance_distribution(df_filtered, title_label):\n",
    "    # Create a dataframe to store the postcodes and distances\n",
    "    df_distances = df_filtered[['disp_arrival_PC4', 'euclidean_distance_from_home']]\n",
    "    df_distances = df_distances.drop_duplicates('disp_arrival_PC4')\n",
    "        \n",
    "    df_distances = pd.DataFrame(df_distances)\n",
    "            \n",
    "    df_distances = df_distances.sort_values('disp_arrival_PC4')\n",
    "        \n",
    "    # Plotting the bar plot\n",
    "    \n",
    "    plt.figure(figsize=(10, 6))\n",
    "\n",
    "    plt.bar(df_distances['disp_arrival_PC4'], df_distances['euclidean_distance_from_home'])\n",
    "    \n",
    "    plt.xticks(rotation=45, ha='right')\n",
    "\n",
    "\n",
    "distance_distribution(df_ODiN_filtered, 'ODiN')"
   ]
  },
  {
   "cell_type": "code",
   "execution_count": null,
   "id": "c6c47cd8",
   "metadata": {},
   "outputs": [],
   "source": [
    "def distance_distribution(df_ODiN, df_synthetic):\n",
    "    df_ODiN[['disp_arrival_PC4', 'euclidean_distance']]\n",
    "    average_distances_ODiN = df_ODiN.groupby('disp_arrival_PC4').agg({'euclidean_distance': 'mean'}).reset_index()\n",
    "    average_distances_synthetic = df_synthetic.groupby('disp_arrival_PC4').agg({'euclidean_distance': 'mean'}).reset_index()\n",
    "    \n",
    "    df_merged = pd.merge(average_distances_ODiN, average_distances_synthetic, on='disp_arrival_PC4', suffixes=('_ODiN', '_synthetic'))\n",
    "    df_merged = df_merged.sort_values('disp_arrival_PC4')\n",
    "    \n",
    "    plt.figure(figsize=(10, 6))\n",
    "    \n",
    "    bar_width = 0.35\n",
    "    bar_positions1 = np.arange(len(df_merged))\n",
    "    bar_positions2 = bar_positions1 + bar_width\n",
    "    \n",
    "    plt.bar(bar_positions1, df_merged['euclidean_distance_ODiN'], width=bar_width, label='ODiN')\n",
    "    plt.bar(bar_positions2, df_merged['euclidean_distance_synthetic'], width=bar_width, label='synthetic')\n",
    "    \n",
    "    plt.xticks(bar_positions1, df_merged['disp_arrival_PC4'], rotation=45, ha='right')\n",
    "    plt.xlabel('Postcode')\n",
    "    plt.ylabel('Average distance (km)')\n",
    "    plt.title('Average distance of work trips of people living in ' + postcode_analysis + ' not necessarily starting from home')\n",
    "    \n",
    "    plt.legend()\n",
    "    plt.show()\n",
    "    \n",
    "distance_distribution(df_ODiN_filtered, df_synthetic_filtered)"
   ]
  },
  {
   "cell_type": "code",
   "execution_count": null,
   "id": "78c3569f",
   "metadata": {},
   "outputs": [],
   "source": []
  },
  {
   "cell_type": "code",
   "execution_count": null,
   "id": "6e544a7a",
   "metadata": {},
   "outputs": [],
   "source": []
  },
  {
   "cell_type": "code",
   "execution_count": null,
   "id": "5deccdd3",
   "metadata": {},
   "outputs": [],
   "source": []
  },
  {
   "cell_type": "code",
   "execution_count": null,
   "id": "5d2fd839",
   "metadata": {},
   "outputs": [],
   "source": []
  }
 ],
 "metadata": {
  "kernelspec": {
   "display_name": "dhzw_env",
   "language": "python",
   "name": "dhzw_env"
  },
  "language_info": {
   "codemirror_mode": {
    "name": "ipython",
    "version": 3
   },
   "file_extension": ".py",
   "mimetype": "text/x-python",
   "name": "python",
   "nbconvert_exporter": "python",
   "pygments_lexer": "ipython3",
   "version": "3.9.13"
  }
 },
 "nbformat": 4,
 "nbformat_minor": 5
}
