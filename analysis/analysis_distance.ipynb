{
 "cells": [
  {
   "cell_type": "markdown",
   "id": "48c27af3",
   "metadata": {},
   "source": [
    "# Compare average distance between simulation and ODiN"
   ]
  },
  {
   "cell_type": "code",
   "execution_count": null,
   "id": "a6d1e4e7",
   "metadata": {},
   "outputs": [],
   "source": [
    "import os\n",
    "import pandas as pd\n",
    "import numpy as np"
   ]
  },
  {
   "cell_type": "markdown",
   "id": "18ccd957",
   "metadata": {},
   "source": [
    "### ODiN"
   ]
  },
  {
   "cell_type": "code",
   "execution_count": null,
   "id": "9f0c66e1",
   "metadata": {},
   "outputs": [],
   "source": [
    "df_ODiN = pd.read_csv(\"../data/processed/output/analysis/ODiN/distance_activity.csv\")\n",
    "sum(df_ODiN['tot_distance'])/sum(df_ODiN['n'])"
   ]
  },
  {
   "cell_type": "markdown",
   "id": "eac03907",
   "metadata": {},
   "source": [
    "### Simulations"
   ]
  },
  {
   "cell_type": "code",
   "execution_count": null,
   "id": "752a6b2e",
   "metadata": {},
   "outputs": [],
   "source": [
    "df_simulation = pd.read_csv(\"C:/Users/6997619/Documents/GitHub projects/DHZW-simulation_Sim-2APL/src/main/resources/distance_analysis/activity_distance.csv\")\n",
    "sum(df_simulation['total_distance'])/sum(df_simulation['n_trips'])"
   ]
  }
 ],
 "metadata": {
  "kernelspec": {
   "display_name": "dhzw_env",
   "language": "python",
   "name": "dhzw_env"
  },
  "language_info": {
   "codemirror_mode": {
    "name": "ipython",
    "version": 3
   },
   "file_extension": ".py",
   "mimetype": "text/x-python",
   "name": "python",
   "nbconvert_exporter": "python",
   "pygments_lexer": "ipython3",
   "version": "3.9.13"
  }
 },
 "nbformat": 4,
 "nbformat_minor": 5
}
