{
 "cells": [
  {
   "cell_type": "code",
   "execution_count": null,
   "id": "1bb3f760",
   "metadata": {},
   "outputs": [],
   "source": [
    "import pandas as pd\n",
    "import os\n",
    "import math\n",
    "import numpy as np"
   ]
  },
  {
   "cell_type": "code",
   "execution_count": null,
   "id": "d70b7ffc",
   "metadata": {},
   "outputs": [],
   "source": [
    "# Set the working directory to 'this.dir()'\n",
    "os.chdir('C:/Users/6997619/Documents/GitHub projects/DHZW-simulation_Sim-2APL/src/main/resources/DHZW_full')\n",
    "\n",
    "# Read synthetic activities\n",
    "df = pd.read_csv(\"DHZW_activities_locations.csv\")"
   ]
  },
  {
   "cell_type": "code",
   "execution_count": null,
   "id": "b9594359",
   "metadata": {},
   "outputs": [],
   "source": [
    "len(df)\n",
    "df"
   ]
  },
  {
   "cell_type": "code",
   "execution_count": null,
   "id": "e3a49793",
   "metadata": {},
   "outputs": [],
   "source": [
    "# Transfrom the activity type in upper case like ODiN\n",
    "df['activity_type'] = df['activity_type'].str.upper()"
   ]
  },
  {
   "cell_type": "code",
   "execution_count": null,
   "id": "b6e5c366",
   "metadata": {},
   "outputs": [],
   "source": [
    "# Sort the dataframe by 'Agent' and 'Day'\n",
    "df = df.sort_values(['pid', 'day_of_week', 'activity_number']).reset_index(drop=True)"
   ]
  },
  {
   "cell_type": "code",
   "execution_count": null,
   "id": "ebb3a78d",
   "metadata": {},
   "outputs": [],
   "source": [
    "# Within each agent and day, add the previous activity and postcode visited\n",
    "df['previous_activity'] = df.groupby(['pid', 'day_of_week'])['activity_type'].shift()\n",
    "df['previous_postcode'] = df.groupby(['pid', 'day_of_week'])['postcode'].shift()"
   ]
  },
  {
   "cell_type": "code",
   "execution_count": null,
   "id": "b1374e9d",
   "metadata": {},
   "outputs": [],
   "source": [
    "# Extract trips by selecting only activities with a previous activity within the day\n",
    "df = df.dropna(subset=['previous_activity'])\n",
    "len(df)"
   ]
  },
  {
   "cell_type": "code",
   "execution_count": null,
   "id": "ee15686f",
   "metadata": {},
   "outputs": [],
   "source": [
    "# Select columns\n",
    "df = df[['pid', 'day_of_week', 'previous_activity', 'activity_type', 'previous_postcode', 'postcode']]"
   ]
  },
  {
   "cell_type": "code",
   "execution_count": null,
   "id": "67ca1a4c",
   "metadata": {},
   "outputs": [],
   "source": [
    "# Transfrom PC5 to PC4\n",
    "\n",
    "df['previous_postcode'] = df['previous_postcode'].apply(lambda x: x[:-1] if len(x) == 5 else x)\n",
    "print(df['previous_postcode'].str.len().unique())\n",
    "\n",
    "df['postcode'] = df['postcode'].apply(lambda x: x[:-1] if len(x) == 5 else x)\n",
    "print(df['postcode'].str.len().unique())"
   ]
  },
  {
   "cell_type": "markdown",
   "id": "c8ebc3ef",
   "metadata": {},
   "source": [
    "### Add postcode home from synthetic population"
   ]
  },
  {
   "cell_type": "code",
   "execution_count": null,
   "id": "0347d31f",
   "metadata": {},
   "outputs": [],
   "source": [
    "# Read synthetic population to add home postcode\n",
    "df_synthetic_population = pd.read_csv(\"DHZW_synthetic_population.csv\")\n",
    "\n",
    "# select useful coloumns\n",
    "df_synthetic_population = df_synthetic_population[['pid', 'PC6']]\n",
    "\n",
    "# Transfrom home PC6 to PC4\n",
    "df_synthetic_population['PC6'] = df_synthetic_population['PC6'].str[:-2]\n",
    "\n",
    "# Rename coloumn to match ODiN\n",
    "df_synthetic_population = df_synthetic_population.rename(columns={'PC6': 'hh_PC4'})"
   ]
  },
  {
   "cell_type": "code",
   "execution_count": null,
   "id": "0456f0cc",
   "metadata": {},
   "outputs": [],
   "source": [
    "# Add home PC4 to the trips\n",
    "df = pd.merge(df, df_synthetic_population, on='pid')"
   ]
  },
  {
   "cell_type": "code",
   "execution_count": null,
   "id": "17e0c1bf",
   "metadata": {},
   "outputs": [],
   "source": [
    "# Rename like ODiN\n",
    "df = df.rename(columns={'pid': 'agent_ID',\n",
    "                        'day_of_week': 'day_of_week',\n",
    "                        'activity_type': 'disp_activity',\n",
    "                        'postcode': 'disp_arrival_PC4',\n",
    "                        'previous_postcode': 'disp_start_PC4'})"
   ]
  },
  {
   "cell_type": "code",
   "execution_count": null,
   "id": "4c08f61b",
   "metadata": {},
   "outputs": [],
   "source": [
    "len(df)"
   ]
  },
  {
   "cell_type": "code",
   "execution_count": null,
   "id": "595a3f69",
   "metadata": {},
   "outputs": [],
   "source": [
    "# Save trips\n",
    "os.chdir('C:/Users/6997619/Documents/GitHub projects/DHZW_assign_location/data/processed/analysis/ODiN')\n",
    "df.to_csv('synthetic_trips.csv', index=False, header=True)"
   ]
  },
  {
   "cell_type": "code",
   "execution_count": null,
   "id": "515c797c",
   "metadata": {},
   "outputs": [],
   "source": []
  },
  {
   "cell_type": "code",
   "execution_count": null,
   "id": "363a4468",
   "metadata": {},
   "outputs": [],
   "source": []
  }
 ],
 "metadata": {
  "kernelspec": {
   "display_name": "dhzw_env",
   "language": "python",
   "name": "dhzw_env"
  },
  "language_info": {
   "codemirror_mode": {
    "name": "ipython",
    "version": 3
   },
   "file_extension": ".py",
   "mimetype": "text/x-python",
   "name": "python",
   "nbconvert_exporter": "python",
   "pygments_lexer": "ipython3",
   "version": "3.9.13"
  }
 },
 "nbformat": 4,
 "nbformat_minor": 5
}
