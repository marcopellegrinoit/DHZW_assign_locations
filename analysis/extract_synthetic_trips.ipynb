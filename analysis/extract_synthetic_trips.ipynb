{
 "cells": [
  {
   "cell_type": "code",
   "execution_count": 11,
   "id": "1bb3f760",
   "metadata": {},
   "outputs": [],
   "source": [
    "import pandas as pd\n",
    "import os\n",
    "import math\n",
    "import numpy as np"
   ]
  },
  {
   "cell_type": "code",
   "execution_count": 12,
   "id": "d70b7ffc",
   "metadata": {},
   "outputs": [],
   "source": [
    "# Set the working directory to 'this.dir()'\n",
    "os.chdir('C:/Users/6997619/Documents/GitHub projects/DHZW-simulation_Sim-2APL/src/main/resources/DHZW_full')\n",
    "\n",
    "# Read synthetic activities\n",
    "df = pd.read_csv(\"DHZW_activities_locations.csv\")"
   ]
  },
  {
   "cell_type": "code",
   "execution_count": 13,
   "id": "b9594359",
   "metadata": {},
   "outputs": [
    {
     "data": {
      "text/html": [
       "<div>\n",
       "<style scoped>\n",
       "    .dataframe tbody tr th:only-of-type {\n",
       "        vertical-align: middle;\n",
       "    }\n",
       "\n",
       "    .dataframe tbody tr th {\n",
       "        vertical-align: top;\n",
       "    }\n",
       "\n",
       "    .dataframe thead th {\n",
       "        text-align: right;\n",
       "    }\n",
       "</style>\n",
       "<table border=\"1\" class=\"dataframe\">\n",
       "  <thead>\n",
       "    <tr style=\"text-align: right;\">\n",
       "      <th></th>\n",
       "      <th>pid</th>\n",
       "      <th>hh_ID</th>\n",
       "      <th>activity_number</th>\n",
       "      <th>activity_type</th>\n",
       "      <th>day_of_week</th>\n",
       "      <th>start_time_seconds</th>\n",
       "      <th>duration_seconds</th>\n",
       "      <th>in_DHZW</th>\n",
       "      <th>postcode</th>\n",
       "      <th>coordinate_y</th>\n",
       "      <th>coordinate_x</th>\n",
       "    </tr>\n",
       "  </thead>\n",
       "  <tbody>\n",
       "    <tr>\n",
       "      <th>0</th>\n",
       "      <td>1</td>\n",
       "      <td>42329</td>\n",
       "      <td>1</td>\n",
       "      <td>home</td>\n",
       "      <td>1</td>\n",
       "      <td>0</td>\n",
       "      <td>86340</td>\n",
       "      <td>1</td>\n",
       "      <td>2544E</td>\n",
       "      <td>52.046483</td>\n",
       "      <td>4.250288</td>\n",
       "    </tr>\n",
       "    <tr>\n",
       "      <th>1</th>\n",
       "      <td>1</td>\n",
       "      <td>42329</td>\n",
       "      <td>2</td>\n",
       "      <td>home</td>\n",
       "      <td>2</td>\n",
       "      <td>86400</td>\n",
       "      <td>86340</td>\n",
       "      <td>1</td>\n",
       "      <td>2544E</td>\n",
       "      <td>52.046483</td>\n",
       "      <td>4.250288</td>\n",
       "    </tr>\n",
       "    <tr>\n",
       "      <th>2</th>\n",
       "      <td>1</td>\n",
       "      <td>42329</td>\n",
       "      <td>3</td>\n",
       "      <td>home</td>\n",
       "      <td>3</td>\n",
       "      <td>172800</td>\n",
       "      <td>86340</td>\n",
       "      <td>1</td>\n",
       "      <td>2544E</td>\n",
       "      <td>52.046483</td>\n",
       "      <td>4.250288</td>\n",
       "    </tr>\n",
       "    <tr>\n",
       "      <th>3</th>\n",
       "      <td>1</td>\n",
       "      <td>42329</td>\n",
       "      <td>4</td>\n",
       "      <td>home</td>\n",
       "      <td>4</td>\n",
       "      <td>259200</td>\n",
       "      <td>86340</td>\n",
       "      <td>1</td>\n",
       "      <td>2544E</td>\n",
       "      <td>52.046483</td>\n",
       "      <td>4.250288</td>\n",
       "    </tr>\n",
       "    <tr>\n",
       "      <th>4</th>\n",
       "      <td>1</td>\n",
       "      <td>42329</td>\n",
       "      <td>5</td>\n",
       "      <td>home</td>\n",
       "      <td>5</td>\n",
       "      <td>345600</td>\n",
       "      <td>40500</td>\n",
       "      <td>1</td>\n",
       "      <td>2544E</td>\n",
       "      <td>52.046483</td>\n",
       "      <td>4.250288</td>\n",
       "    </tr>\n",
       "    <tr>\n",
       "      <th>...</th>\n",
       "      <td>...</td>\n",
       "      <td>...</td>\n",
       "      <td>...</td>\n",
       "      <td>...</td>\n",
       "      <td>...</td>\n",
       "      <td>...</td>\n",
       "      <td>...</td>\n",
       "      <td>...</td>\n",
       "      <td>...</td>\n",
       "      <td>...</td>\n",
       "      <td>...</td>\n",
       "    </tr>\n",
       "    <tr>\n",
       "      <th>1461597</th>\n",
       "      <td>84880</td>\n",
       "      <td>23178</td>\n",
       "      <td>7</td>\n",
       "      <td>shopping</td>\n",
       "      <td>4</td>\n",
       "      <td>299700</td>\n",
       "      <td>3600</td>\n",
       "      <td>0</td>\n",
       "      <td>2511</td>\n",
       "      <td>52.078513</td>\n",
       "      <td>4.317539</td>\n",
       "    </tr>\n",
       "    <tr>\n",
       "      <th>1461598</th>\n",
       "      <td>84880</td>\n",
       "      <td>23178</td>\n",
       "      <td>8</td>\n",
       "      <td>home</td>\n",
       "      <td>4</td>\n",
       "      <td>304200</td>\n",
       "      <td>41340</td>\n",
       "      <td>1</td>\n",
       "      <td>2532E</td>\n",
       "      <td>52.047579</td>\n",
       "      <td>4.295087</td>\n",
       "    </tr>\n",
       "    <tr>\n",
       "      <th>1461599</th>\n",
       "      <td>84880</td>\n",
       "      <td>23178</td>\n",
       "      <td>9</td>\n",
       "      <td>home</td>\n",
       "      <td>5</td>\n",
       "      <td>345600</td>\n",
       "      <td>86340</td>\n",
       "      <td>1</td>\n",
       "      <td>2532E</td>\n",
       "      <td>52.047579</td>\n",
       "      <td>4.295087</td>\n",
       "    </tr>\n",
       "    <tr>\n",
       "      <th>1461600</th>\n",
       "      <td>84880</td>\n",
       "      <td>23178</td>\n",
       "      <td>10</td>\n",
       "      <td>home</td>\n",
       "      <td>6</td>\n",
       "      <td>432000</td>\n",
       "      <td>86340</td>\n",
       "      <td>1</td>\n",
       "      <td>2532E</td>\n",
       "      <td>52.047579</td>\n",
       "      <td>4.295087</td>\n",
       "    </tr>\n",
       "    <tr>\n",
       "      <th>1461601</th>\n",
       "      <td>84880</td>\n",
       "      <td>23178</td>\n",
       "      <td>11</td>\n",
       "      <td>home</td>\n",
       "      <td>7</td>\n",
       "      <td>518400</td>\n",
       "      <td>86340</td>\n",
       "      <td>1</td>\n",
       "      <td>2532E</td>\n",
       "      <td>52.047579</td>\n",
       "      <td>4.295087</td>\n",
       "    </tr>\n",
       "  </tbody>\n",
       "</table>\n",
       "<p>1461602 rows × 11 columns</p>\n",
       "</div>"
      ],
      "text/plain": [
       "           pid  hh_ID  activity_number activity_type  day_of_week  \\\n",
       "0            1  42329                1          home            1   \n",
       "1            1  42329                2          home            2   \n",
       "2            1  42329                3          home            3   \n",
       "3            1  42329                4          home            4   \n",
       "4            1  42329                5          home            5   \n",
       "...        ...    ...              ...           ...          ...   \n",
       "1461597  84880  23178                7      shopping            4   \n",
       "1461598  84880  23178                8          home            4   \n",
       "1461599  84880  23178                9          home            5   \n",
       "1461600  84880  23178               10          home            6   \n",
       "1461601  84880  23178               11          home            7   \n",
       "\n",
       "         start_time_seconds  duration_seconds  in_DHZW postcode  coordinate_y  \\\n",
       "0                         0             86340        1    2544E     52.046483   \n",
       "1                     86400             86340        1    2544E     52.046483   \n",
       "2                    172800             86340        1    2544E     52.046483   \n",
       "3                    259200             86340        1    2544E     52.046483   \n",
       "4                    345600             40500        1    2544E     52.046483   \n",
       "...                     ...               ...      ...      ...           ...   \n",
       "1461597              299700              3600        0     2511     52.078513   \n",
       "1461598              304200             41340        1    2532E     52.047579   \n",
       "1461599              345600             86340        1    2532E     52.047579   \n",
       "1461600              432000             86340        1    2532E     52.047579   \n",
       "1461601              518400             86340        1    2532E     52.047579   \n",
       "\n",
       "         coordinate_x  \n",
       "0            4.250288  \n",
       "1            4.250288  \n",
       "2            4.250288  \n",
       "3            4.250288  \n",
       "4            4.250288  \n",
       "...               ...  \n",
       "1461597      4.317539  \n",
       "1461598      4.295087  \n",
       "1461599      4.295087  \n",
       "1461600      4.295087  \n",
       "1461601      4.295087  \n",
       "\n",
       "[1461602 rows x 11 columns]"
      ]
     },
     "execution_count": 13,
     "metadata": {},
     "output_type": "execute_result"
    }
   ],
   "source": [
    "len(df)\n",
    "df"
   ]
  },
  {
   "cell_type": "code",
   "execution_count": 14,
   "id": "e3a49793",
   "metadata": {},
   "outputs": [],
   "source": [
    "# Transfrom the activity type in upper case like ODiN\n",
    "df['activity_type'] = df['activity_type'].str.upper()"
   ]
  },
  {
   "cell_type": "code",
   "execution_count": 15,
   "id": "b6e5c366",
   "metadata": {},
   "outputs": [],
   "source": [
    "# Sort the dataframe by 'Agent' and 'Day'\n",
    "df = df.sort_values(['pid', 'day_of_week', 'activity_number']).reset_index(drop=True)"
   ]
  },
  {
   "cell_type": "code",
   "execution_count": 16,
   "id": "ebb3a78d",
   "metadata": {},
   "outputs": [],
   "source": [
    "# Within each agent and day, add the previous activity and postcode visited\n",
    "df['previous_activity'] = df.groupby(['pid', 'day_of_week'])['activity_type'].shift()\n",
    "df['previous_postcode'] = df.groupby(['pid', 'day_of_week'])['postcode'].shift()"
   ]
  },
  {
   "cell_type": "code",
   "execution_count": 17,
   "id": "b1374e9d",
   "metadata": {},
   "outputs": [
    {
     "data": {
      "text/plain": [
       "867442"
      ]
     },
     "execution_count": 17,
     "metadata": {},
     "output_type": "execute_result"
    }
   ],
   "source": [
    "# Extract trips by selecting only activities with a previous activity within the day\n",
    "df = df.dropna(subset=['previous_activity'])\n",
    "len(df)"
   ]
  },
  {
   "cell_type": "code",
   "execution_count": 18,
   "id": "ee15686f",
   "metadata": {},
   "outputs": [],
   "source": [
    "# Select columns\n",
    "df = df[['pid', 'day_of_week', 'previous_activity', 'activity_type', 'previous_postcode', 'postcode']]"
   ]
  },
  {
   "cell_type": "code",
   "execution_count": 19,
   "id": "67ca1a4c",
   "metadata": {},
   "outputs": [
    {
     "name": "stdout",
     "output_type": "stream",
     "text": [
      "[4]\n",
      "[4]\n"
     ]
    }
   ],
   "source": [
    "# Transfrom PC5 to PC4\n",
    "\n",
    "df['previous_postcode'] = df['previous_postcode'].apply(lambda x: x[:-1] if len(x) == 5 else x)\n",
    "print(df['previous_postcode'].str.len().unique())\n",
    "\n",
    "df['postcode'] = df['postcode'].apply(lambda x: x[:-1] if len(x) == 5 else x)\n",
    "print(df['postcode'].str.len().unique())"
   ]
  },
  {
   "cell_type": "markdown",
   "id": "c8ebc3ef",
   "metadata": {},
   "source": [
    "### Add postcode home from synthetic population"
   ]
  },
  {
   "cell_type": "code",
   "execution_count": 20,
   "id": "0347d31f",
   "metadata": {},
   "outputs": [],
   "source": [
    "# Read synthetic population to add home postcode\n",
    "df_synthetic_population = pd.read_csv(\"DHZW_synthetic_population.csv\")\n",
    "\n",
    "# select useful coloumns\n",
    "df_synthetic_population = df_synthetic_population[['pid', 'PC6']]\n",
    "\n",
    "# Transfrom home PC6 to PC4\n",
    "df_synthetic_population['PC6'] = df_synthetic_population['PC6'].str[:-2]\n",
    "\n",
    "# Rename coloumn to match ODiN\n",
    "df_synthetic_population = df_synthetic_population.rename(columns={'PC6': 'hh_PC4'})"
   ]
  },
  {
   "cell_type": "code",
   "execution_count": 21,
   "id": "0456f0cc",
   "metadata": {},
   "outputs": [],
   "source": [
    "# Add home PC4 to the trips\n",
    "df = pd.merge(df, df_synthetic_population, on='pid')"
   ]
  },
  {
   "cell_type": "code",
   "execution_count": 22,
   "id": "17e0c1bf",
   "metadata": {},
   "outputs": [],
   "source": [
    "# Rename like ODiN\n",
    "df = df.rename(columns={'pid': 'agent_ID',\n",
    "                        'day_of_week': 'day_of_week',\n",
    "                        'activity_type': 'disp_activity',\n",
    "                        'postcode': 'disp_arrival_PC4',\n",
    "                        'previous_postcode': 'disp_start_PC4'})"
   ]
  },
  {
   "cell_type": "code",
   "execution_count": 23,
   "id": "4c08f61b",
   "metadata": {},
   "outputs": [
    {
     "data": {
      "text/plain": [
       "867442"
      ]
     },
     "execution_count": 23,
     "metadata": {},
     "output_type": "execute_result"
    }
   ],
   "source": [
    "len(df)"
   ]
  },
  {
   "cell_type": "code",
   "execution_count": 24,
   "id": "595a3f69",
   "metadata": {},
   "outputs": [],
   "source": [
    "# Save trips\n",
    "os.chdir('C:/Users/6997619/Documents/GitHub projects/DHZW_assign_location/data/processed/analysis/ODiN')\n",
    "df.to_csv('synthetic_trips.csv', index=False, header=True)"
   ]
  },
  {
   "cell_type": "code",
   "execution_count": null,
   "id": "515c797c",
   "metadata": {},
   "outputs": [],
   "source": []
  },
  {
   "cell_type": "code",
   "execution_count": null,
   "id": "363a4468",
   "metadata": {},
   "outputs": [],
   "source": []
  }
 ],
 "metadata": {
  "kernelspec": {
   "display_name": "dhzw_env",
   "language": "python",
   "name": "dhzw_env"
  },
  "language_info": {
   "codemirror_mode": {
    "name": "ipython",
    "version": 3
   },
   "file_extension": ".py",
   "mimetype": "text/x-python",
   "name": "python",
   "nbconvert_exporter": "python",
   "pygments_lexer": "ipython3",
   "version": "3.9.13"
  }
 },
 "nbformat": 4,
 "nbformat_minor": 5
}
